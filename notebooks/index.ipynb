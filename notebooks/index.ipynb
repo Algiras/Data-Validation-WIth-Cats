{
 "cells": [
  {
   "cell_type": "markdown",
   "metadata": {},
   "source": [
    "# Data validation with Cats"
   ]
  },
  {
   "cell_type": "markdown",
   "metadata": {},
   "source": [
    "## The Problem\n",
    "\n",
    "We got a requirement to validate user data coming from a Front End Registration form"
   ]
  },
  {
   "cell_type": "code",
   "execution_count": 10,
   "metadata": {},
   "outputs": [
    {
     "data": {
      "text/plain": [
       "defined \u001b[32mclass\u001b[39m \u001b[36mUserDTO\u001b[39m\n",
       "defined \u001b[32mfunction\u001b[39m \u001b[36misValidEmail\u001b[39m\n",
       "defined \u001b[32mfunction\u001b[39m \u001b[36misValidPassword\u001b[39m"
      ]
     },
     "execution_count": 10,
     "metadata": {},
     "output_type": "execute_result"
    }
   ],
   "source": [
    "interp.configureCompiler(_.settings.YpartialUnification.value = true)\n",
    "\n",
    "case class UserDTO(email: String, password: String)\n",
    "\n",
    "private val emailRegex =\n",
    "    \"\"\"^[a-zA-Z0-9\\.!#$%&'*+/=?^_`{|}~-]+@[a-zA-Z0-9](?:[a-zA-Z0-9-]{0,61}[a-zA-Z0-9])?(?:\\.[a-zA-Z0-9](?:[a-zA-Z0-9-]{0,61}[a-zA-Z0-9])?)*$\"\"\".r\n",
    "\n",
    "private val passwordRegex = \"\"\"[a-zA-Z0-9]+\"\"\"\n",
    "\n",
    "def isValidEmail(email: String): Boolean = email match {\n",
    "    case null                                          => false\n",
    "    case e if e.trim.isEmpty                           => false\n",
    "    case e if emailRegex.findFirstMatchIn(e).isDefined => true\n",
    "    case _                                             => false\n",
    "}\n",
    "\n",
    "def isValidPassword(password: String): Boolean = password match {\n",
    "    case null                                          => false\n",
    "    case p if p.trim.isEmpty                           => false\n",
    "    case p if p.matches(passwordRegex) && p.length > 5 => true\n",
    "    case _                                             => false\n",
    "}"
   ]
  },
  {
   "cell_type": "markdown",
   "metadata": {},
   "source": [
    "## Version 0 Naive Implementation\n",
    "\n",
    "Naive implementation that just throws, when validation fails"
   ]
  },
  {
   "cell_type": "code",
   "execution_count": 11,
   "metadata": {},
   "outputs": [
    {
     "data": {
      "text/plain": [
       "defined \u001b[32mclass\u001b[39m \u001b[36mUserValidationException\u001b[39m\n",
       "defined \u001b[32mfunction\u001b[39m \u001b[36mvalidateUserVersion0\u001b[39m"
      ]
     },
     "execution_count": 11,
     "metadata": {},
     "output_type": "execute_result"
    }
   ],
   "source": [
    "class UserValidationException extends Exception(\"User validation exception\")\n",
    "\n",
    "def validateUserVersion0(user: UserDTO): UserDTO =\n",
    "  if (isValidEmail(user.email) && isValidPassword(user.password)) {\n",
    "    user\n",
    "  } else {\n",
    "    throw new UserValidationException\n",
    "  }"
   ]
  },
  {
   "cell_type": "markdown",
   "metadata": {},
   "source": [
    "## Version 1 Smart Constructors"
   ]
  },
  {
   "cell_type": "code",
   "execution_count": 12,
   "metadata": {},
   "outputs": [
    {
     "data": {
      "text/plain": [
       "defined \u001b[32mclass\u001b[39m \u001b[36mEmail\u001b[39m\n",
       "defined \u001b[32mobject\u001b[39m \u001b[36mEmail\u001b[39m\n",
       "defined \u001b[32mclass\u001b[39m \u001b[36mPassword\u001b[39m\n",
       "defined \u001b[32mobject\u001b[39m \u001b[36mPassword\u001b[39m\n",
       "defined \u001b[32mclass\u001b[39m \u001b[36mUser\u001b[39m\n",
       "defined \u001b[32mobject\u001b[39m \u001b[36mUser\u001b[39m\n",
       "defined \u001b[32mfunction\u001b[39m \u001b[36mvalidateUserVersion1\u001b[39m"
      ]
     },
     "execution_count": 12,
     "metadata": {},
     "output_type": "execute_result"
    }
   ],
   "source": [
    "case class Email(value: String)\n",
    "object Email {\n",
    "  def apply(email: String): Option[Email] = \n",
    "    Some(email).filter(isValidEmail).map(new Email(_))\n",
    "}\n",
    "\n",
    "case class Password(value: String)\n",
    "object Password {\n",
    "  def apply(password: String): Option[Password] = \n",
    "    Some(password).filter(isValidPassword).map(new Password(_))\n",
    "}\n",
    "\n",
    "case class User(email: Email, password: Password)\n",
    "\n",
    "object User {\n",
    "  def apply(email: Email, password: Password): User = new User(email, password)\n",
    "\n",
    "  def fromUserDTO(user: UserDTO): Option[User] = for {\n",
    "    email <- Email(user.email)\n",
    "    password <- Password(user.password)\n",
    "  } yield new User(email, password)\n",
    "}\n",
    "\n",
    "def validateUserVersion1(user: UserDTO): Option[User] = User.fromUserDTO(user)"
   ]
  },
  {
   "cell_type": "markdown",
   "metadata": {},
   "source": [
    "## Version 2 Transforming to Either"
   ]
  },
  {
   "cell_type": "code",
   "execution_count": 13,
   "metadata": {},
   "outputs": [
    {
     "data": {
      "text/plain": [
       "\u001b[36muserError\u001b[39m: \u001b[32mString\u001b[39m = \u001b[32m\"User validation error\"\u001b[39m\n",
       "defined \u001b[32mfunction\u001b[39m \u001b[36mvalidateUserVersion2\u001b[39m"
      ]
     },
     "execution_count": 13,
     "metadata": {},
     "output_type": "execute_result"
    }
   ],
   "source": [
    "val userError = \"User validation error\"\n",
    "def validateUserVersion2(user: UserDTO): Either[String, User] = \n",
    "    User.fromUserDTO(user).toRight(userError)"
   ]
  },
  {
   "cell_type": "markdown",
   "metadata": {},
   "source": [
    "## Version 3 Combining Errors"
   ]
  },
  {
   "cell_type": "code",
   "execution_count": 14,
   "metadata": {},
   "outputs": [
    {
     "data": {
      "text/plain": [
       "\u001b[36memailError\u001b[39m: \u001b[32mString\u001b[39m = \u001b[32m\"invalid email\"\u001b[39m\n",
       "\u001b[36mpasswordError\u001b[39m: \u001b[32mString\u001b[39m = \u001b[32m\"invalid password\"\u001b[39m\n",
       "defined \u001b[32mfunction\u001b[39m \u001b[36mvalidateUserVersion3\u001b[39m"
      ]
     },
     "execution_count": 14,
     "metadata": {},
     "output_type": "execute_result"
    }
   ],
   "source": [
    "val emailError = \"invalid email\"\n",
    "val passwordError = \"invalid password\"\n",
    "\n",
    "def validateUserVersion3(user: UserDTO): Either[String, User] = (\n",
    "    Email(user.email).toRight(emailError),\n",
    "    Password(user.password).toRight(passwordError)\n",
    "  ) match {\n",
    "    case (Right(email), Right(password)) => Right(User(email, password))\n",
    "    case (Left(error), Right(_))         => Left(error)\n",
    "    case (Right(_), Left(error))         => Left(error)\n",
    "    case (Left(e1), Left(e2))            => Left(e1 ++ e2)\n",
    "}"
   ]
  },
  {
   "cell_type": "markdown",
   "metadata": {},
   "source": [
    "## Version 4 Simplify Syntax"
   ]
  },
  {
   "cell_type": "code",
   "execution_count": 15,
   "metadata": {},
   "outputs": [
    {
     "data": {
      "text/plain": [
       "defined \u001b[32mfunction\u001b[39m \u001b[36mvalidateUserVersion4\u001b[39m"
      ]
     },
     "execution_count": 15,
     "metadata": {},
     "output_type": "execute_result"
    }
   ],
   "source": [
    "def validateUserVersion4(user: UserDTO): Either[String, User] = for {\n",
    "  email <- Email(user.email).toRight(emailError)\n",
    "  password <- Password(user.password).toRight(passwordError)\n",
    "} yield User(email, password)"
   ]
  },
  {
   "cell_type": "markdown",
   "metadata": {},
   "source": [
    "## Version 5 New Syntax"
   ]
  },
  {
   "cell_type": "code",
   "execution_count": 18,
   "metadata": {},
   "outputs": [
    {
     "data": {
      "text/plain": [
       "\u001b[32mimport \u001b[39m\u001b[36m$ivy.$                               \n",
       "\u001b[39m\n",
       "\u001b[32mimport \u001b[39m\u001b[36mcats.data.Validated\n",
       "\u001b[39m\n",
       "\u001b[32mimport \u001b[39m\u001b[36mcats.data.Validated.{Invalid, Valid}\n",
       "\u001b[39m\n",
       "\u001b[32mimport \u001b[39m\u001b[36mcats.implicits._\n",
       "\n",
       "\u001b[39m\n",
       "defined \u001b[32mfunction\u001b[39m \u001b[36mvalidateUserVersion5\u001b[39m"
      ]
     },
     "execution_count": 18,
     "metadata": {},
     "output_type": "execute_result"
    }
   ],
   "source": [
    "import $ivy.`org.typelevel::cats-core:1.6.0`\n",
    "import cats.data.Validated\n",
    "import cats.data.Validated.{Invalid, Valid}\n",
    "import cats.implicits._\n",
    "\n",
    "def validateUserVersion5(user: UserDTO): Validated[String, User] = (\n",
    "  Email(user.email).toValid(emailError),\n",
    "  Password(user.password).toValid(passwordError)\n",
    ").mapN(User(_, _))"
   ]
  },
  {
   "cell_type": "markdown",
   "metadata": {},
   "source": [
    "## Version 6 Modeling Dependent Errors"
   ]
  },
  {
   "cell_type": "code",
   "execution_count": 16,
   "metadata": {},
   "outputs": [
    {
     "data": {
      "text/plain": [
       "\u001b[32mimport \u001b[39m\u001b[36mcats.implicits._\n",
       "\u001b[39m\n",
       "\u001b[32mimport \u001b[39m\u001b[36mcats.data.NonEmptyList\n",
       "\u001b[39m\n",
       "\u001b[32mimport \u001b[39m\u001b[36mcats.data.ValidatedNel\n",
       "\u001b[39m\n",
       "\u001b[32mimport \u001b[39m\u001b[36mcats.data.Validated\n",
       "\u001b[39m\n",
       "\u001b[32mimport \u001b[39m\u001b[36mcats.data.Validated.{Invalid, Valid}\n",
       "\n",
       "\u001b[39m\n",
       "defined \u001b[32mtrait\u001b[39m \u001b[36mUserError\u001b[39m\n",
       "defined \u001b[32mobject\u001b[39m \u001b[36mPasswordValidationError\u001b[39m\n",
       "defined \u001b[32mtrait\u001b[39m \u001b[36mEmailError\u001b[39m\n",
       "defined \u001b[32mobject\u001b[39m \u001b[36mInvalidEmailError\u001b[39m\n",
       "defined \u001b[32mobject\u001b[39m \u001b[36mBlackListedUserError\u001b[39m\n",
       "\u001b[36mblackListedUsers\u001b[39m: \u001b[32mSeq\u001b[39m[\u001b[32mString\u001b[39m] = \u001b[33mList\u001b[39m(\u001b[32m\"bart@simsom.com\"\u001b[39m)\n",
       "defined \u001b[32mfunction\u001b[39m \u001b[36mvalidatedEvilness\u001b[39m\n",
       "defined \u001b[32mfunction\u001b[39m \u001b[36mvalidateUserVersion6\u001b[39m"
      ]
     },
     "execution_count": 16,
     "metadata": {},
     "output_type": "execute_result"
    }
   ],
   "source": [
    "import cats.implicits._\n",
    "import cats.data.NonEmptyList\n",
    "import cats.data.ValidatedNel\n",
    "import cats.data.Validated\n",
    "import cats.data.Validated.{Invalid, Valid}\n",
    "\n",
    "sealed trait UserError\n",
    "final case object PasswordValidationError extends UserError\n",
    "\n",
    "sealed trait EmailError extends UserError\n",
    "final case object InvalidEmailError extends EmailError\n",
    "final case object BlackListedUserError extends EmailError\n",
    "\n",
    "val blackListedUsers = Seq(\"bart@simsom.com\")\n",
    "\n",
    "def validatedEvilness(email: Email): ValidatedNel[UserError, Email] =\n",
    " Validated.condNel(!blackListedUsers.contains(email.value), \n",
    "                   email, \n",
    "                   BlackListedUserError)\n",
    "\n",
    "\n",
    "def validateUserVersion6(user: UserDTO): ValidatedNel[UserError, User] = (\n",
    "  Email(user.email).toValidNel(InvalidEmailError)\n",
    "                   .andThen(validatedEvilness),\n",
    "  Password(user.password).toValidNel(PasswordValidationError)\n",
    ").mapN(User(_, _))"
   ]
  },
  {
   "cell_type": "markdown",
   "metadata": {},
   "source": [
    "## Version 7 Generalizing"
   ]
  },
  {
   "cell_type": "code",
   "execution_count": 17,
   "metadata": {},
   "outputs": [
    {
     "data": {
      "text/plain": [
       "defined \u001b[32mfunction\u001b[39m \u001b[36mvalidateUserVersion1\u001b[39m\n",
       "defined \u001b[32mfunction\u001b[39m \u001b[36mvalidateUserVersion3\u001b[39m"
      ]
     },
     "execution_count": 17,
     "metadata": {},
     "output_type": "execute_result"
    }
   ],
   "source": [
    "def validateUserVersion1(user: UserDTO) = validateUserVersion6(user).toOption\n",
    "\n",
    "def validateUserVersion3(user: UserDTO) = validateUserVersion6(user).toEither"
   ]
  },
  {
   "cell_type": "code",
   "execution_count": null,
   "metadata": {},
   "outputs": [],
   "source": []
  }
 ],
 "metadata": {
  "kernelspec": {
   "display_name": "Scala",
   "language": "scala",
   "name": "scala"
  },
  "language_info": {
   "codemirror_mode": "text/x-scala",
   "file_extension": ".scala",
   "mimetype": "text/x-scala",
   "name": "scala",
   "nbconvert_exporter": "script",
   "version": "2.12.8"
  }
 },
 "nbformat": 4,
 "nbformat_minor": 2
}
